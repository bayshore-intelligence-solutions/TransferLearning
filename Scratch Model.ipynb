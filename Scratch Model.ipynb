{
 "cells": [
  {
   "cell_type": "code",
   "execution_count": null,
   "metadata": {},
   "outputs": [],
   "source": [
    "import os\n",
    "os.environ[\"CUDA_DEVICE_ORDER\"]= \"PCI_BUS_ID\"\n",
    "os.environ[\"CUDA_VISIBLE_DEVICES\"]= \"1\"; \n",
    "from warnings import simplefilter\n",
    "simplefilter(action='ignore', category=FutureWarning)"
   ]
  },
  {
   "cell_type": "code",
   "execution_count": 2,
   "metadata": {},
   "outputs": [],
   "source": [
    "import numpy as np"
   ]
  },
  {
   "cell_type": "code",
   "execution_count": 3,
   "metadata": {},
   "outputs": [
    {
     "name": "stderr",
     "output_type": "stream",
     "text": [
      "Using TensorFlow backend.\n"
     ]
    }
   ],
   "source": [
    "from joblib import load\n",
    "from keras.models import Sequential\n",
    "from keras.layers import Conv2D, MaxPooling2D, Flatten, Dropout, Dense"
   ]
  },
  {
   "cell_type": "code",
   "execution_count": 4,
   "metadata": {},
   "outputs": [
    {
     "name": "stdout",
     "output_type": "stream",
     "text": [
      "WARNING:tensorflow:From /home/antpc/anaconda3/lib/python3.7/site-packages/keras/backend/tensorflow_backend.py:174: The name tf.get_default_session is deprecated. Please use tf.compat.v1.get_default_session instead.\n",
      "\n",
      "WARNING:tensorflow:From /home/antpc/anaconda3/lib/python3.7/site-packages/keras/backend/tensorflow_backend.py:181: The name tf.ConfigProto is deprecated. Please use tf.compat.v1.ConfigProto instead.\n",
      "\n",
      "WARNING:tensorflow:From /home/antpc/anaconda3/lib/python3.7/site-packages/keras/backend/tensorflow_backend.py:186: The name tf.Session is deprecated. Please use tf.compat.v1.Session instead.\n",
      "\n",
      "WARNING:tensorflow:From /home/antpc/anaconda3/lib/python3.7/site-packages/keras/backend/tensorflow_backend.py:190: The name tf.global_variables is deprecated. Please use tf.compat.v1.global_variables instead.\n",
      "\n"
     ]
    },
    {
     "data": {
      "text/plain": [
       "['/job:localhost/replica:0/task:0/device:GPU:0',\n",
       " '/job:localhost/replica:0/task:0/device:GPU:1']"
      ]
     },
     "execution_count": 4,
     "metadata": {},
     "output_type": "execute_result"
    }
   ],
   "source": [
    "from keras import backend as K\n",
    "K.tensorflow_backend._get_available_gpus()"
   ]
  },
  {
   "cell_type": "markdown",
   "metadata": {},
   "source": [
    "## Loading the dataset"
   ]
  },
  {
   "cell_type": "code",
   "execution_count": 5,
   "metadata": {},
   "outputs": [],
   "source": [
    "X_train = np.load('X_train.npy')\n",
    "X_test = np.load('X_test.npy')\n",
    "X_val = np.load('X_val.npy')\n",
    "\n",
    "y_train = np.load('y_train.npy')\n",
    "y_test = np.load('y_test.npy')\n",
    "y_val = np.load('y_val.npy')"
   ]
  },
  {
   "cell_type": "markdown",
   "metadata": {},
   "source": [
    "## Define the model"
   ]
  },
  {
   "cell_type": "code",
   "execution_count": 6,
   "metadata": {},
   "outputs": [
    {
     "data": {
      "text/plain": [
       "(4346, 224, 224, 3)"
      ]
     },
     "execution_count": 6,
     "metadata": {},
     "output_type": "execute_result"
    }
   ],
   "source": [
    "X_train.shape"
   ]
  },
  {
   "cell_type": "code",
   "execution_count": 7,
   "metadata": {},
   "outputs": [
    {
     "data": {
      "text/plain": [
       "(4346, 97)"
      ]
     },
     "execution_count": 7,
     "metadata": {},
     "output_type": "execute_result"
    }
   ],
   "source": [
    "y_train.shape"
   ]
  },
  {
   "cell_type": "code",
   "execution_count": 8,
   "metadata": {},
   "outputs": [
    {
     "data": {
      "text/plain": [
       "(931, 224, 224, 3)"
      ]
     },
     "execution_count": 8,
     "metadata": {},
     "output_type": "execute_result"
    }
   ],
   "source": [
    "X_val.shape"
   ]
  },
  {
   "cell_type": "code",
   "execution_count": 9,
   "metadata": {},
   "outputs": [
    {
     "data": {
      "text/plain": [
       "(931, 97)"
      ]
     },
     "execution_count": 9,
     "metadata": {},
     "output_type": "execute_result"
    }
   ],
   "source": [
    "y_val.shape"
   ]
  },
  {
   "cell_type": "code",
   "execution_count": 17,
   "metadata": {},
   "outputs": [],
   "source": [
    "model = Sequential()\n",
    "\n",
    "# First Conv Unit\n",
    "model.add(\n",
    "    Conv2D(filters=32, kernel_size=(3, 3), activation='relu', input_shape=(224, 224, 3))\n",
    ")\n",
    "model.add(\n",
    "    MaxPooling2D(pool_size=(2, 2))\n",
    ")\n",
    "\n",
    "# Second Conv Unit\n",
    "model.add(\n",
    "    Conv2D(filters=32, kernel_size=(3, 3), activation='relu')\n",
    ")\n",
    "model.add(\n",
    "    MaxPooling2D(pool_size=(2, 2))\n",
    ")\n",
    "\n",
    "# Add a dropout\n",
    "model.add(Dropout(0.25))\n",
    "\n",
    "# Third Conv Unit\n",
    "model.add(\n",
    "    Conv2D(filters=32, kernel_size=(3, 3), activation='relu')\n",
    ")\n",
    "model.add(\n",
    "    MaxPooling2D(pool_size=(2, 2))\n",
    ")\n",
    "\n",
    "# Fourth Conv Unit\n",
    "model.add(\n",
    "    Conv2D(filters=32, kernel_size=(3, 3), activation='relu')\n",
    ")\n",
    "model.add(\n",
    "    MaxPooling2D(pool_size=(2, 2))\n",
    ")\n",
    "\n",
    "# Add a dropout\n",
    "model.add(Dropout(0.25))\n",
    "\n",
    "# Flatten\n",
    "model.add(Flatten())\n",
    "\n",
    "# Dense\n",
    "model.add(\n",
    "    Dense(256, activation='relu')\n",
    ")\n",
    "\n",
    "# Add a dropout\n",
    "model.add(Dropout(0.5))\n",
    "\n",
    "# Output\n",
    "model.add(\n",
    "    Dense(97, activation='softmax')\n",
    ")"
   ]
  },
  {
   "cell_type": "code",
   "execution_count": 18,
   "metadata": {},
   "outputs": [
    {
     "name": "stdout",
     "output_type": "stream",
     "text": [
      "_________________________________________________________________\n",
      "Layer (type)                 Output Shape              Param #   \n",
      "=================================================================\n",
      "conv2d_9 (Conv2D)            (None, 222, 222, 32)      896       \n",
      "_________________________________________________________________\n",
      "max_pooling2d_9 (MaxPooling2 (None, 111, 111, 32)      0         \n",
      "_________________________________________________________________\n",
      "conv2d_10 (Conv2D)           (None, 109, 109, 32)      9248      \n",
      "_________________________________________________________________\n",
      "max_pooling2d_10 (MaxPooling (None, 54, 54, 32)        0         \n",
      "_________________________________________________________________\n",
      "dropout_7 (Dropout)          (None, 54, 54, 32)        0         \n",
      "_________________________________________________________________\n",
      "conv2d_11 (Conv2D)           (None, 52, 52, 32)        9248      \n",
      "_________________________________________________________________\n",
      "max_pooling2d_11 (MaxPooling (None, 26, 26, 32)        0         \n",
      "_________________________________________________________________\n",
      "conv2d_12 (Conv2D)           (None, 24, 24, 32)        9248      \n",
      "_________________________________________________________________\n",
      "max_pooling2d_12 (MaxPooling (None, 12, 12, 32)        0         \n",
      "_________________________________________________________________\n",
      "dropout_8 (Dropout)          (None, 12, 12, 32)        0         \n",
      "_________________________________________________________________\n",
      "flatten_3 (Flatten)          (None, 4608)              0         \n",
      "_________________________________________________________________\n",
      "dense_5 (Dense)              (None, 256)               1179904   \n",
      "_________________________________________________________________\n",
      "dropout_9 (Dropout)          (None, 256)               0         \n",
      "_________________________________________________________________\n",
      "dense_6 (Dense)              (None, 97)                24929     \n",
      "=================================================================\n",
      "Total params: 1,233,473\n",
      "Trainable params: 1,233,473\n",
      "Non-trainable params: 0\n",
      "_________________________________________________________________\n"
     ]
    }
   ],
   "source": [
    "model.summary();"
   ]
  },
  {
   "cell_type": "markdown",
   "metadata": {},
   "source": [
    "## Compile the model"
   ]
  },
  {
   "cell_type": "code",
   "execution_count": 19,
   "metadata": {},
   "outputs": [],
   "source": [
    "model.compile(loss='categorical_crossentropy', \n",
    "             optimizer='adam',\n",
    "             metrics=['accuracy'])"
   ]
  },
  {
   "cell_type": "markdown",
   "metadata": {},
   "source": [
    "## Training the model"
   ]
  },
  {
   "cell_type": "code",
   "execution_count": 15,
   "metadata": {},
   "outputs": [
    {
     "name": "stdout",
     "output_type": "stream",
     "text": [
      "WARNING:tensorflow:From /home/antpc/anaconda3/lib/python3.7/site-packages/tensorflow/python/ops/math_grad.py:1250: add_dispatch_support.<locals>.wrapper (from tensorflow.python.ops.array_ops) is deprecated and will be removed in a future version.\n",
      "Instructions for updating:\n",
      "Use tf.where in 2.0, which has the same broadcast rule as np.where\n",
      "Train on 4346 samples, validate on 931 samples\n",
      "Epoch 1/10\n",
      "4346/4346 [==============================] - 9s 2ms/step - loss: 15.8640 - acc: 0.0145 - val_loss: 15.9103 - val_acc: 0.0129\n",
      "Epoch 2/10\n",
      "4346/4346 [==============================] - 5s 1ms/step - loss: 15.8807 - acc: 0.0147 - val_loss: 15.9103 - val_acc: 0.0129\n",
      "Epoch 3/10\n",
      "4346/4346 [==============================] - 4s 1ms/step - loss: 15.8890 - acc: 0.0140 - val_loss: 15.9450 - val_acc: 0.0107\n",
      "Epoch 4/10\n",
      "4346/4346 [==============================] - 5s 1ms/step - loss: 15.9364 - acc: 0.0113 - val_loss: 15.9450 - val_acc: 0.0107\n",
      "Epoch 5/10\n",
      "4346/4346 [==============================] - 5s 1ms/step - loss: 15.9463 - acc: 0.0104 - val_loss: 15.9450 - val_acc: 0.0107\n",
      "Epoch 6/10\n",
      "4346/4346 [==============================] - 5s 1ms/step - loss: 15.9789 - acc: 0.0085 - val_loss: 15.9450 - val_acc: 0.0107\n",
      "Epoch 7/10\n",
      "4346/4346 [==============================] - 4s 1ms/step - loss: 15.9327 - acc: 0.0115 - val_loss: 15.9450 - val_acc: 0.0107\n",
      "Epoch 8/10\n",
      "4346/4346 [==============================] - 5s 1ms/step - loss: 15.9588 - acc: 0.0097 - val_loss: 15.9450 - val_acc: 0.0107\n",
      "Epoch 9/10\n",
      "4346/4346 [==============================] - 4s 1ms/step - loss: 15.9735 - acc: 0.0090 - val_loss: 15.9450 - val_acc: 0.0107\n",
      "Epoch 10/10\n",
      "4346/4346 [==============================] - 5s 1ms/step - loss: 15.9546 - acc: 0.0101 - val_loss: 16.0142 - val_acc: 0.0064\n"
     ]
    }
   ],
   "source": [
    "history = model.fit(X_train, y_train, batch_size=128, epochs=10,\n",
    "                   validation_data=(X_val, y_val))"
   ]
  },
  {
   "cell_type": "markdown",
   "metadata": {},
   "source": [
    "We've got poor result because we haven't scaled the dataset. This is a live example of why we should always scale our dataset. Because the dataset was not scaled, the loss decreased for sometime and then it got stuck and hardly changed. We may also see an occational increase in the loss. Based on some observed situations, these are the following indications that the dataset requires scaling.\n",
    "\n",
    "- Loss/Accuracy is not changing and over so many epochs, they are same\n",
    "- Loss is even increasing or Accuracy is decreasing considering that the model is overfitting\n",
    "- Model is taking a long time to train, even on GPUs"
   ]
  },
  {
   "cell_type": "markdown",
   "metadata": {},
   "source": [
    "## Scaling and Retraining"
   ]
  },
  {
   "cell_type": "code",
   "execution_count": 20,
   "metadata": {},
   "outputs": [],
   "source": [
    "X_train = X_train.astype('float32') / 255.\n",
    "X_val = X_val.astype('float32') / 255.\n",
    "X_test = X_test.astype('float32') / 255."
   ]
  },
  {
   "cell_type": "code",
   "execution_count": 21,
   "metadata": {},
   "outputs": [
    {
     "name": "stdout",
     "output_type": "stream",
     "text": [
      "Train on 4346 samples, validate on 931 samples\n",
      "Epoch 1/10\n",
      "4346/4346 [==============================] - 6s 1ms/step - loss: 4.5209 - acc: 0.0412 - val_loss: 4.3979 - val_acc: 0.0623\n",
      "Epoch 2/10\n",
      "4346/4346 [==============================] - 5s 1ms/step - loss: 4.2989 - acc: 0.0838 - val_loss: 4.1282 - val_acc: 0.1300\n",
      "Epoch 3/10\n",
      "4346/4346 [==============================] - 5s 1ms/step - loss: 4.0185 - acc: 0.1337 - val_loss: 3.7999 - val_acc: 0.1772\n",
      "Epoch 4/10\n",
      "4346/4346 [==============================] - 4s 1ms/step - loss: 3.6606 - acc: 0.1963 - val_loss: 3.4950 - val_acc: 0.2406\n",
      "Epoch 5/10\n",
      "4346/4346 [==============================] - 5s 1ms/step - loss: 3.3450 - acc: 0.2478 - val_loss: 3.1396 - val_acc: 0.3093\n",
      "Epoch 6/10\n",
      "4346/4346 [==============================] - 5s 1ms/step - loss: 3.0724 - acc: 0.2941 - val_loss: 2.9685 - val_acc: 0.3652\n",
      "Epoch 7/10\n",
      "4346/4346 [==============================] - 5s 1ms/step - loss: 2.7419 - acc: 0.3543 - val_loss: 2.7557 - val_acc: 0.3921\n",
      "Epoch 8/10\n",
      "4346/4346 [==============================] - 4s 1ms/step - loss: 2.4554 - acc: 0.4091 - val_loss: 2.6706 - val_acc: 0.3996\n",
      "Epoch 9/10\n",
      "4346/4346 [==============================] - 4s 1ms/step - loss: 2.1853 - acc: 0.4551 - val_loss: 2.5842 - val_acc: 0.4232\n",
      "Epoch 10/10\n",
      "4346/4346 [==============================] - 4s 1ms/step - loss: 1.9445 - acc: 0.5044 - val_loss: 2.5593 - val_acc: 0.4211\n"
     ]
    }
   ],
   "source": [
    "history = model.fit(X_train, y_train, batch_size=128, epochs=10,\n",
    "                   validation_data=(X_val, y_val))"
   ]
  },
  {
   "cell_type": "markdown",
   "metadata": {},
   "source": [
    "But **42%** Validation accuracy is still not good enough. We need atleast a decent performace to use it in real life. But the problem is the data number of images are too small as compared to number of distinct class labels and with this small number of images, it is very difficult to achieve state of the performance **Except we use TRANSFER LEARNING**"
   ]
  },
  {
   "cell_type": "markdown",
   "metadata": {},
   "source": [
    "## Test Performance"
   ]
  },
  {
   "cell_type": "code",
   "execution_count": 22,
   "metadata": {},
   "outputs": [
    {
     "name": "stdout",
     "output_type": "stream",
     "text": [
      "932/932 [==============================] - 1s 820us/step\n"
     ]
    }
   ],
   "source": [
    "loss, accuracy = model.evaluate(X_test, y_test)"
   ]
  },
  {
   "cell_type": "code",
   "execution_count": 23,
   "metadata": {},
   "outputs": [
    {
     "data": {
      "text/plain": [
       "2.731557180953128"
      ]
     },
     "execution_count": 23,
     "metadata": {},
     "output_type": "execute_result"
    }
   ],
   "source": [
    "loss"
   ]
  },
  {
   "cell_type": "code",
   "execution_count": 24,
   "metadata": {},
   "outputs": [
    {
     "data": {
      "text/plain": [
       "0.3873390557939914"
      ]
     },
     "execution_count": 24,
     "metadata": {},
     "output_type": "execute_result"
    }
   ],
   "source": [
    "accuracy"
   ]
  },
  {
   "cell_type": "markdown",
   "metadata": {},
   "source": [
    "Even the performance on the test data set is around **39%**. You can also fine tune the model and see if it performs better or not but it's performance can hardly go beyond a certain limit becaue the number of images is so less."
   ]
  }
 ],
 "metadata": {
  "kernelspec": {
   "display_name": "Python 3",
   "language": "python",
   "name": "python3"
  },
  "language_info": {
   "codemirror_mode": {
    "name": "ipython",
    "version": 3
   },
   "file_extension": ".py",
   "mimetype": "text/x-python",
   "name": "python",
   "nbconvert_exporter": "python",
   "pygments_lexer": "ipython3",
   "version": "3.7.5"
  }
 },
 "nbformat": 4,
 "nbformat_minor": 2
}
